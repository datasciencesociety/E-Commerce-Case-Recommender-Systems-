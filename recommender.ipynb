{
 "cells": [
  {
   "cell_type": "code",
   "execution_count": 2,
   "metadata": {},
   "outputs": [],
   "source": [
    "import pandas as pd\n",
    "from datetime import datetime\n",
    "import gensim\n",
    "from gensim.models import Word2Vec\n",
    "from sklearn.manifold import TSNE\n",
    "import matplotlib.pyplot as plt"
   ]
  },
  {
   "cell_type": "code",
   "execution_count": 3,
   "metadata": {},
   "outputs": [
    {
     "data": {
      "text/plain": [
       "'C:\\\\Users\\\\Kamelia'"
      ]
     },
     "execution_count": 3,
     "metadata": {},
     "output_type": "execute_result"
    }
   ],
   "source": [
    "import os\n",
    "os.getcwd()"
   ]
  },
  {
   "cell_type": "code",
   "execution_count": 4,
   "metadata": {},
   "outputs": [],
   "source": [
    "os.chdir('E:\\\\Summer school 2019\\\\Case study')"
   ]
  },
  {
   "cell_type": "code",
   "execution_count": 5,
   "metadata": {},
   "outputs": [],
   "source": [
    "cat_tree = pd.read_csv(\"E:\\\\Summer school 2019\\\\Case study\\\\data\\\\category_tree.csv\")\n",
    "events = pd.read_csv(\"E:\\\\Summer school 2019\\\\Case study\\\\data\\\\events.csv\")\n",
    "item1 = pd.read_csv(\"E:\\\\Summer school 2019\\\\Case study\\\\data\\\\item_properties_part1.csv\")\n",
    "item2 = pd.read_csv(\"E:\\\\Summer school 2019\\\\Case study\\\\data\\\\item_properties_part2.csv\")"
   ]
  },
  {
   "cell_type": "code",
   "execution_count": 8,
   "metadata": {},
   "outputs": [
    {
     "data": {
      "text/html": [
       "<div>\n",
       "<style scoped>\n",
       "    .dataframe tbody tr th:only-of-type {\n",
       "        vertical-align: middle;\n",
       "    }\n",
       "\n",
       "    .dataframe tbody tr th {\n",
       "        vertical-align: top;\n",
       "    }\n",
       "\n",
       "    .dataframe thead th {\n",
       "        text-align: right;\n",
       "    }\n",
       "</style>\n",
       "<table border=\"1\" class=\"dataframe\">\n",
       "  <thead>\n",
       "    <tr style=\"text-align: right;\">\n",
       "      <th></th>\n",
       "      <th>categoryid</th>\n",
       "      <th>parentid</th>\n",
       "    </tr>\n",
       "  </thead>\n",
       "  <tbody>\n",
       "    <tr>\n",
       "      <th>0</th>\n",
       "      <td>1016</td>\n",
       "      <td>213.0</td>\n",
       "    </tr>\n",
       "    <tr>\n",
       "      <th>1</th>\n",
       "      <td>809</td>\n",
       "      <td>169.0</td>\n",
       "    </tr>\n",
       "    <tr>\n",
       "      <th>2</th>\n",
       "      <td>570</td>\n",
       "      <td>9.0</td>\n",
       "    </tr>\n",
       "    <tr>\n",
       "      <th>3</th>\n",
       "      <td>1691</td>\n",
       "      <td>885.0</td>\n",
       "    </tr>\n",
       "    <tr>\n",
       "      <th>4</th>\n",
       "      <td>536</td>\n",
       "      <td>1691.0</td>\n",
       "    </tr>\n",
       "  </tbody>\n",
       "</table>\n",
       "</div>"
      ],
      "text/plain": [
       "   categoryid  parentid\n",
       "0        1016     213.0\n",
       "1         809     169.0\n",
       "2         570       9.0\n",
       "3        1691     885.0\n",
       "4         536    1691.0"
      ]
     },
     "execution_count": 8,
     "metadata": {},
     "output_type": "execute_result"
    }
   ],
   "source": [
    "cat_tree.head()"
   ]
  },
  {
   "cell_type": "code",
   "execution_count": 11,
   "metadata": {
    "scrolled": true
   },
   "outputs": [
    {
     "data": {
      "text/html": [
       "<div>\n",
       "<style scoped>\n",
       "    .dataframe tbody tr th:only-of-type {\n",
       "        vertical-align: middle;\n",
       "    }\n",
       "\n",
       "    .dataframe tbody tr th {\n",
       "        vertical-align: top;\n",
       "    }\n",
       "\n",
       "    .dataframe thead th {\n",
       "        text-align: right;\n",
       "    }\n",
       "</style>\n",
       "<table border=\"1\" class=\"dataframe\">\n",
       "  <thead>\n",
       "    <tr style=\"text-align: right;\">\n",
       "      <th></th>\n",
       "      <th>timestamp</th>\n",
       "      <th>visitorid</th>\n",
       "      <th>event</th>\n",
       "      <th>itemid</th>\n",
       "      <th>transactionid</th>\n",
       "    </tr>\n",
       "  </thead>\n",
       "  <tbody>\n",
       "    <tr>\n",
       "      <th>0</th>\n",
       "      <td>1433221332117</td>\n",
       "      <td>257597</td>\n",
       "      <td>view</td>\n",
       "      <td>355908</td>\n",
       "      <td>NaN</td>\n",
       "    </tr>\n",
       "    <tr>\n",
       "      <th>1</th>\n",
       "      <td>1433224214164</td>\n",
       "      <td>992329</td>\n",
       "      <td>view</td>\n",
       "      <td>248676</td>\n",
       "      <td>NaN</td>\n",
       "    </tr>\n",
       "    <tr>\n",
       "      <th>2</th>\n",
       "      <td>1433221999827</td>\n",
       "      <td>111016</td>\n",
       "      <td>view</td>\n",
       "      <td>318965</td>\n",
       "      <td>NaN</td>\n",
       "    </tr>\n",
       "    <tr>\n",
       "      <th>3</th>\n",
       "      <td>1433221955914</td>\n",
       "      <td>483717</td>\n",
       "      <td>view</td>\n",
       "      <td>253185</td>\n",
       "      <td>NaN</td>\n",
       "    </tr>\n",
       "    <tr>\n",
       "      <th>4</th>\n",
       "      <td>1433221337106</td>\n",
       "      <td>951259</td>\n",
       "      <td>view</td>\n",
       "      <td>367447</td>\n",
       "      <td>NaN</td>\n",
       "    </tr>\n",
       "  </tbody>\n",
       "</table>\n",
       "</div>"
      ],
      "text/plain": [
       "       timestamp  visitorid event  itemid  transactionid\n",
       "0  1433221332117     257597  view  355908            NaN\n",
       "1  1433224214164     992329  view  248676            NaN\n",
       "2  1433221999827     111016  view  318965            NaN\n",
       "3  1433221955914     483717  view  253185            NaN\n",
       "4  1433221337106     951259  view  367447            NaN"
      ]
     },
     "execution_count": 11,
     "metadata": {},
     "output_type": "execute_result"
    }
   ],
   "source": [
    "events.head()"
   ]
  },
  {
   "cell_type": "code",
   "execution_count": 25,
   "metadata": {
    "scrolled": true
   },
   "outputs": [
    {
     "data": {
      "text/html": [
       "<div>\n",
       "<style scoped>\n",
       "    .dataframe tbody tr th:only-of-type {\n",
       "        vertical-align: middle;\n",
       "    }\n",
       "\n",
       "    .dataframe tbody tr th {\n",
       "        vertical-align: top;\n",
       "    }\n",
       "\n",
       "    .dataframe thead th {\n",
       "        text-align: right;\n",
       "    }\n",
       "</style>\n",
       "<table border=\"1\" class=\"dataframe\">\n",
       "  <thead>\n",
       "    <tr style=\"text-align: right;\">\n",
       "      <th></th>\n",
       "      <th>timestamp</th>\n",
       "      <th>visitorid</th>\n",
       "      <th>itemid</th>\n",
       "      <th>transactionid</th>\n",
       "    </tr>\n",
       "  </thead>\n",
       "  <tbody>\n",
       "    <tr>\n",
       "      <th>count</th>\n",
       "      <td>2.756101e+06</td>\n",
       "      <td>2.756101e+06</td>\n",
       "      <td>2.756101e+06</td>\n",
       "      <td>22457.000000</td>\n",
       "    </tr>\n",
       "    <tr>\n",
       "      <th>mean</th>\n",
       "      <td>1.436424e+12</td>\n",
       "      <td>7.019229e+05</td>\n",
       "      <td>2.349225e+05</td>\n",
       "      <td>8826.497796</td>\n",
       "    </tr>\n",
       "    <tr>\n",
       "      <th>std</th>\n",
       "      <td>3.366312e+09</td>\n",
       "      <td>4.056875e+05</td>\n",
       "      <td>1.341954e+05</td>\n",
       "      <td>5098.996290</td>\n",
       "    </tr>\n",
       "    <tr>\n",
       "      <th>min</th>\n",
       "      <td>1.430622e+12</td>\n",
       "      <td>0.000000e+00</td>\n",
       "      <td>3.000000e+00</td>\n",
       "      <td>0.000000</td>\n",
       "    </tr>\n",
       "    <tr>\n",
       "      <th>25%</th>\n",
       "      <td>1.433478e+12</td>\n",
       "      <td>3.505660e+05</td>\n",
       "      <td>1.181200e+05</td>\n",
       "      <td>4411.000000</td>\n",
       "    </tr>\n",
       "    <tr>\n",
       "      <th>50%</th>\n",
       "      <td>1.436453e+12</td>\n",
       "      <td>7.020600e+05</td>\n",
       "      <td>2.360670e+05</td>\n",
       "      <td>8813.000000</td>\n",
       "    </tr>\n",
       "    <tr>\n",
       "      <th>75%</th>\n",
       "      <td>1.439225e+12</td>\n",
       "      <td>1.053437e+06</td>\n",
       "      <td>3.507150e+05</td>\n",
       "      <td>13224.000000</td>\n",
       "    </tr>\n",
       "    <tr>\n",
       "      <th>max</th>\n",
       "      <td>1.442545e+12</td>\n",
       "      <td>1.407579e+06</td>\n",
       "      <td>4.668670e+05</td>\n",
       "      <td>17671.000000</td>\n",
       "    </tr>\n",
       "  </tbody>\n",
       "</table>\n",
       "</div>"
      ],
      "text/plain": [
       "          timestamp     visitorid        itemid  transactionid\n",
       "count  2.756101e+06  2.756101e+06  2.756101e+06   22457.000000\n",
       "mean   1.436424e+12  7.019229e+05  2.349225e+05    8826.497796\n",
       "std    3.366312e+09  4.056875e+05  1.341954e+05    5098.996290\n",
       "min    1.430622e+12  0.000000e+00  3.000000e+00       0.000000\n",
       "25%    1.433478e+12  3.505660e+05  1.181200e+05    4411.000000\n",
       "50%    1.436453e+12  7.020600e+05  2.360670e+05    8813.000000\n",
       "75%    1.439225e+12  1.053437e+06  3.507150e+05   13224.000000\n",
       "max    1.442545e+12  1.407579e+06  4.668670e+05   17671.000000"
      ]
     },
     "execution_count": 25,
     "metadata": {},
     "output_type": "execute_result"
    }
   ],
   "source": [
    "events.describe()"
   ]
  },
  {
   "cell_type": "code",
   "execution_count": 32,
   "metadata": {},
   "outputs": [
    {
     "data": {
      "text/plain": [
       "(2756101, 5)"
      ]
     },
     "execution_count": 32,
     "metadata": {},
     "output_type": "execute_result"
    }
   ],
   "source": [
    "events.shape"
   ]
  },
  {
   "cell_type": "code",
   "execution_count": 12,
   "metadata": {},
   "outputs": [
    {
     "data": {
      "text/html": [
       "<div>\n",
       "<style scoped>\n",
       "    .dataframe tbody tr th:only-of-type {\n",
       "        vertical-align: middle;\n",
       "    }\n",
       "\n",
       "    .dataframe tbody tr th {\n",
       "        vertical-align: top;\n",
       "    }\n",
       "\n",
       "    .dataframe thead th {\n",
       "        text-align: right;\n",
       "    }\n",
       "</style>\n",
       "<table border=\"1\" class=\"dataframe\">\n",
       "  <thead>\n",
       "    <tr style=\"text-align: right;\">\n",
       "      <th></th>\n",
       "      <th>timestamp</th>\n",
       "      <th>itemid</th>\n",
       "      <th>property</th>\n",
       "      <th>value</th>\n",
       "    </tr>\n",
       "  </thead>\n",
       "  <tbody>\n",
       "    <tr>\n",
       "      <th>0</th>\n",
       "      <td>1435460400000</td>\n",
       "      <td>460429</td>\n",
       "      <td>categoryid</td>\n",
       "      <td>1338</td>\n",
       "    </tr>\n",
       "    <tr>\n",
       "      <th>1</th>\n",
       "      <td>1441508400000</td>\n",
       "      <td>206783</td>\n",
       "      <td>888</td>\n",
       "      <td>1116713 960601 n277.200</td>\n",
       "    </tr>\n",
       "    <tr>\n",
       "      <th>2</th>\n",
       "      <td>1439089200000</td>\n",
       "      <td>395014</td>\n",
       "      <td>400</td>\n",
       "      <td>n552.000 639502 n720.000 424566</td>\n",
       "    </tr>\n",
       "    <tr>\n",
       "      <th>3</th>\n",
       "      <td>1431226800000</td>\n",
       "      <td>59481</td>\n",
       "      <td>790</td>\n",
       "      <td>n15360.000</td>\n",
       "    </tr>\n",
       "    <tr>\n",
       "      <th>4</th>\n",
       "      <td>1431831600000</td>\n",
       "      <td>156781</td>\n",
       "      <td>917</td>\n",
       "      <td>828513</td>\n",
       "    </tr>\n",
       "  </tbody>\n",
       "</table>\n",
       "</div>"
      ],
      "text/plain": [
       "       timestamp  itemid    property                            value\n",
       "0  1435460400000  460429  categoryid                             1338\n",
       "1  1441508400000  206783         888          1116713 960601 n277.200\n",
       "2  1439089200000  395014         400  n552.000 639502 n720.000 424566\n",
       "3  1431226800000   59481         790                       n15360.000\n",
       "4  1431831600000  156781         917                           828513"
      ]
     },
     "execution_count": 12,
     "metadata": {},
     "output_type": "execute_result"
    }
   ],
   "source": [
    "item1.head()"
   ]
  },
  {
   "cell_type": "code",
   "execution_count": 13,
   "metadata": {
    "scrolled": true
   },
   "outputs": [
    {
     "data": {
      "text/html": [
       "<div>\n",
       "<style scoped>\n",
       "    .dataframe tbody tr th:only-of-type {\n",
       "        vertical-align: middle;\n",
       "    }\n",
       "\n",
       "    .dataframe tbody tr th {\n",
       "        vertical-align: top;\n",
       "    }\n",
       "\n",
       "    .dataframe thead th {\n",
       "        text-align: right;\n",
       "    }\n",
       "</style>\n",
       "<table border=\"1\" class=\"dataframe\">\n",
       "  <thead>\n",
       "    <tr style=\"text-align: right;\">\n",
       "      <th></th>\n",
       "      <th>timestamp</th>\n",
       "      <th>itemid</th>\n",
       "      <th>property</th>\n",
       "      <th>value</th>\n",
       "    </tr>\n",
       "  </thead>\n",
       "  <tbody>\n",
       "    <tr>\n",
       "      <th>0</th>\n",
       "      <td>1433041200000</td>\n",
       "      <td>183478</td>\n",
       "      <td>561</td>\n",
       "      <td>769062</td>\n",
       "    </tr>\n",
       "    <tr>\n",
       "      <th>1</th>\n",
       "      <td>1439694000000</td>\n",
       "      <td>132256</td>\n",
       "      <td>976</td>\n",
       "      <td>n26.400 1135780</td>\n",
       "    </tr>\n",
       "    <tr>\n",
       "      <th>2</th>\n",
       "      <td>1435460400000</td>\n",
       "      <td>420307</td>\n",
       "      <td>921</td>\n",
       "      <td>1149317 1257525</td>\n",
       "    </tr>\n",
       "    <tr>\n",
       "      <th>3</th>\n",
       "      <td>1431831600000</td>\n",
       "      <td>403324</td>\n",
       "      <td>917</td>\n",
       "      <td>1204143</td>\n",
       "    </tr>\n",
       "    <tr>\n",
       "      <th>4</th>\n",
       "      <td>1435460400000</td>\n",
       "      <td>230701</td>\n",
       "      <td>521</td>\n",
       "      <td>769062</td>\n",
       "    </tr>\n",
       "  </tbody>\n",
       "</table>\n",
       "</div>"
      ],
      "text/plain": [
       "       timestamp  itemid property            value\n",
       "0  1433041200000  183478      561           769062\n",
       "1  1439694000000  132256      976  n26.400 1135780\n",
       "2  1435460400000  420307      921  1149317 1257525\n",
       "3  1431831600000  403324      917          1204143\n",
       "4  1435460400000  230701      521           769062"
      ]
     },
     "execution_count": 13,
     "metadata": {},
     "output_type": "execute_result"
    }
   ],
   "source": [
    "item2.head()"
   ]
  },
  {
   "cell_type": "code",
   "execution_count": 6,
   "metadata": {},
   "outputs": [],
   "source": [
    "item = pd.concat([item1, item2])"
   ]
  },
  {
   "cell_type": "code",
   "execution_count": 17,
   "metadata": {},
   "outputs": [
    {
     "data": {
      "text/html": [
       "<div>\n",
       "<style scoped>\n",
       "    .dataframe tbody tr th:only-of-type {\n",
       "        vertical-align: middle;\n",
       "    }\n",
       "\n",
       "    .dataframe tbody tr th {\n",
       "        vertical-align: top;\n",
       "    }\n",
       "\n",
       "    .dataframe thead th {\n",
       "        text-align: right;\n",
       "    }\n",
       "</style>\n",
       "<table border=\"1\" class=\"dataframe\">\n",
       "  <thead>\n",
       "    <tr style=\"text-align: right;\">\n",
       "      <th></th>\n",
       "      <th>timestamp</th>\n",
       "      <th>itemid</th>\n",
       "    </tr>\n",
       "  </thead>\n",
       "  <tbody>\n",
       "    <tr>\n",
       "      <th>count</th>\n",
       "      <td>2.027590e+07</td>\n",
       "      <td>2.027590e+07</td>\n",
       "    </tr>\n",
       "    <tr>\n",
       "      <th>mean</th>\n",
       "      <td>1.435157e+12</td>\n",
       "      <td>2.333904e+05</td>\n",
       "    </tr>\n",
       "    <tr>\n",
       "      <th>std</th>\n",
       "      <td>3.327798e+09</td>\n",
       "      <td>1.348452e+05</td>\n",
       "    </tr>\n",
       "    <tr>\n",
       "      <th>min</th>\n",
       "      <td>1.431227e+12</td>\n",
       "      <td>0.000000e+00</td>\n",
       "    </tr>\n",
       "    <tr>\n",
       "      <th>25%</th>\n",
       "      <td>1.432436e+12</td>\n",
       "      <td>1.165160e+05</td>\n",
       "    </tr>\n",
       "    <tr>\n",
       "      <th>50%</th>\n",
       "      <td>1.433646e+12</td>\n",
       "      <td>2.334830e+05</td>\n",
       "    </tr>\n",
       "    <tr>\n",
       "      <th>75%</th>\n",
       "      <td>1.437880e+12</td>\n",
       "      <td>3.503040e+05</td>\n",
       "    </tr>\n",
       "    <tr>\n",
       "      <th>max</th>\n",
       "      <td>1.442113e+12</td>\n",
       "      <td>4.668660e+05</td>\n",
       "    </tr>\n",
       "  </tbody>\n",
       "</table>\n",
       "</div>"
      ],
      "text/plain": [
       "          timestamp        itemid\n",
       "count  2.027590e+07  2.027590e+07\n",
       "mean   1.435157e+12  2.333904e+05\n",
       "std    3.327798e+09  1.348452e+05\n",
       "min    1.431227e+12  0.000000e+00\n",
       "25%    1.432436e+12  1.165160e+05\n",
       "50%    1.433646e+12  2.334830e+05\n",
       "75%    1.437880e+12  3.503040e+05\n",
       "max    1.442113e+12  4.668660e+05"
      ]
     },
     "execution_count": 17,
     "metadata": {},
     "output_type": "execute_result"
    }
   ],
   "source": [
    "item.describe()\n",
    "# in property and value there are other values than numeric"
   ]
  },
  {
   "cell_type": "code",
   "execution_count": 18,
   "metadata": {},
   "outputs": [
    {
     "data": {
      "text/plain": [
       "timestamp     int64\n",
       "itemid        int64\n",
       "property     object\n",
       "value        object\n",
       "dtype: object"
      ]
     },
     "execution_count": 18,
     "metadata": {},
     "output_type": "execute_result"
    }
   ],
   "source": [
    "item.dtypes"
   ]
  },
  {
   "cell_type": "code",
   "execution_count": 31,
   "metadata": {},
   "outputs": [
    {
     "data": {
      "text/plain": [
       "(20275902, 4)"
      ]
     },
     "execution_count": 31,
     "metadata": {},
     "output_type": "execute_result"
    }
   ],
   "source": [
    "item.shape"
   ]
  },
  {
   "cell_type": "code",
   "execution_count": null,
   "metadata": {},
   "outputs": [],
   "source": [
    "#df = item[item.applymap(lambda x: 'a' in x).any(axis=1)]"
   ]
  },
  {
   "cell_type": "code",
   "execution_count": 7,
   "metadata": {},
   "outputs": [],
   "source": [
    "df = item[item.property.str.contains('categoryid')]"
   ]
  },
  {
   "cell_type": "code",
   "execution_count": 44,
   "metadata": {},
   "outputs": [
    {
     "data": {
      "text/plain": [
       "(788214, 4)"
      ]
     },
     "execution_count": 44,
     "metadata": {},
     "output_type": "execute_result"
    }
   ],
   "source": [
    "df.shape"
   ]
  },
  {
   "cell_type": "code",
   "execution_count": 45,
   "metadata": {},
   "outputs": [
    {
     "data": {
      "text/html": [
       "<div>\n",
       "<style scoped>\n",
       "    .dataframe tbody tr th:only-of-type {\n",
       "        vertical-align: middle;\n",
       "    }\n",
       "\n",
       "    .dataframe tbody tr th {\n",
       "        vertical-align: top;\n",
       "    }\n",
       "\n",
       "    .dataframe thead th {\n",
       "        text-align: right;\n",
       "    }\n",
       "</style>\n",
       "<table border=\"1\" class=\"dataframe\">\n",
       "  <thead>\n",
       "    <tr style=\"text-align: right;\">\n",
       "      <th></th>\n",
       "      <th>timestamp</th>\n",
       "      <th>itemid</th>\n",
       "    </tr>\n",
       "  </thead>\n",
       "  <tbody>\n",
       "    <tr>\n",
       "      <th>count</th>\n",
       "      <td>7.882140e+05</td>\n",
       "      <td>788214.000000</td>\n",
       "    </tr>\n",
       "    <tr>\n",
       "      <th>mean</th>\n",
       "      <td>1.434702e+12</td>\n",
       "      <td>233407.589098</td>\n",
       "    </tr>\n",
       "    <tr>\n",
       "      <th>std</th>\n",
       "      <td>3.447773e+09</td>\n",
       "      <td>134695.630898</td>\n",
       "    </tr>\n",
       "    <tr>\n",
       "      <th>min</th>\n",
       "      <td>1.431227e+12</td>\n",
       "      <td>0.000000</td>\n",
       "    </tr>\n",
       "    <tr>\n",
       "      <th>25%</th>\n",
       "      <td>1.431227e+12</td>\n",
       "      <td>117203.250000</td>\n",
       "    </tr>\n",
       "    <tr>\n",
       "      <th>50%</th>\n",
       "      <td>1.433646e+12</td>\n",
       "      <td>232760.500000</td>\n",
       "    </tr>\n",
       "    <tr>\n",
       "      <th>75%</th>\n",
       "      <td>1.437275e+12</td>\n",
       "      <td>350257.750000</td>\n",
       "    </tr>\n",
       "    <tr>\n",
       "      <th>max</th>\n",
       "      <td>1.442113e+12</td>\n",
       "      <td>466866.000000</td>\n",
       "    </tr>\n",
       "  </tbody>\n",
       "</table>\n",
       "</div>"
      ],
      "text/plain": [
       "          timestamp         itemid\n",
       "count  7.882140e+05  788214.000000\n",
       "mean   1.434702e+12  233407.589098\n",
       "std    3.447773e+09  134695.630898\n",
       "min    1.431227e+12       0.000000\n",
       "25%    1.431227e+12  117203.250000\n",
       "50%    1.433646e+12  232760.500000\n",
       "75%    1.437275e+12  350257.750000\n",
       "max    1.442113e+12  466866.000000"
      ]
     },
     "execution_count": 45,
     "metadata": {},
     "output_type": "execute_result"
    }
   ],
   "source": [
    "df.describe()"
   ]
  },
  {
   "cell_type": "code",
   "execution_count": 96,
   "metadata": {},
   "outputs": [],
   "source": [
    "#df.iloc[1:100]"
   ]
  },
  {
   "cell_type": "code",
   "execution_count": 8,
   "metadata": {},
   "outputs": [],
   "source": [
    "df1 = df.drop(['property'], axis = 1)"
   ]
  },
  {
   "cell_type": "code",
   "execution_count": 61,
   "metadata": {},
   "outputs": [
    {
     "data": {
      "text/plain": [
       "(1242,)"
      ]
     },
     "execution_count": 61,
     "metadata": {},
     "output_type": "execute_result"
    }
   ],
   "source": [
    "df1.value.unique().shape"
   ]
  },
  {
   "cell_type": "code",
   "execution_count": 62,
   "metadata": {},
   "outputs": [
    {
     "data": {
      "text/plain": [
       "(417053,)"
      ]
     },
     "execution_count": 62,
     "metadata": {},
     "output_type": "execute_result"
    }
   ],
   "source": [
    "df1.itemid.unique().shape"
   ]
  },
  {
   "cell_type": "code",
   "execution_count": 9,
   "metadata": {},
   "outputs": [],
   "source": [
    "df2 = df1.drop(['timestamp'], axis = 1)"
   ]
  },
  {
   "cell_type": "code",
   "execution_count": 10,
   "metadata": {},
   "outputs": [],
   "source": [
    "df2 = df.drop_duplicates()"
   ]
  },
  {
   "cell_type": "code",
   "execution_count": 57,
   "metadata": {},
   "outputs": [
    {
     "data": {
      "text/plain": [
       "(442432, 2)"
      ]
     },
     "execution_count": 57,
     "metadata": {},
     "output_type": "execute_result"
    }
   ],
   "source": [
    "df1.shape"
   ]
  },
  {
   "cell_type": "code",
   "execution_count": 12,
   "metadata": {},
   "outputs": [
    {
     "data": {
      "text/plain": [
       "(417053,)"
      ]
     },
     "execution_count": 12,
     "metadata": {},
     "output_type": "execute_result"
    }
   ],
   "source": [
    "df2.itemid.unique().shape"
   ]
  },
  {
   "cell_type": "code",
   "execution_count": null,
   "metadata": {},
   "outputs": [],
   "source": [
    "# there are duplicates - for one item there are several categories\n",
    "# work with df1"
   ]
  },
  {
   "cell_type": "code",
   "execution_count": 11,
   "metadata": {},
   "outputs": [
    {
     "data": {
      "text/html": [
       "<div>\n",
       "<style scoped>\n",
       "    .dataframe tbody tr th:only-of-type {\n",
       "        vertical-align: middle;\n",
       "    }\n",
       "\n",
       "    .dataframe tbody tr th {\n",
       "        vertical-align: top;\n",
       "    }\n",
       "\n",
       "    .dataframe thead th {\n",
       "        text-align: right;\n",
       "    }\n",
       "</style>\n",
       "<table border=\"1\" class=\"dataframe\">\n",
       "  <thead>\n",
       "    <tr style=\"text-align: right;\">\n",
       "      <th></th>\n",
       "      <th>timestamp</th>\n",
       "      <th>itemid</th>\n",
       "      <th>value</th>\n",
       "      <th>no_week</th>\n",
       "    </tr>\n",
       "  </thead>\n",
       "  <tbody>\n",
       "    <tr>\n",
       "      <th>0</th>\n",
       "      <td>2015-06-28 03:00:00</td>\n",
       "      <td>460429</td>\n",
       "      <td>1338</td>\n",
       "      <td>26</td>\n",
       "    </tr>\n",
       "    <tr>\n",
       "      <th>140</th>\n",
       "      <td>2015-05-24 03:00:00</td>\n",
       "      <td>281245</td>\n",
       "      <td>1277</td>\n",
       "      <td>21</td>\n",
       "    </tr>\n",
       "    <tr>\n",
       "      <th>151</th>\n",
       "      <td>2015-06-28 03:00:00</td>\n",
       "      <td>35575</td>\n",
       "      <td>1059</td>\n",
       "      <td>26</td>\n",
       "    </tr>\n",
       "    <tr>\n",
       "      <th>189</th>\n",
       "      <td>2015-07-19 03:00:00</td>\n",
       "      <td>8313</td>\n",
       "      <td>1147</td>\n",
       "      <td>29</td>\n",
       "    </tr>\n",
       "    <tr>\n",
       "      <th>197</th>\n",
       "      <td>2015-07-26 03:00:00</td>\n",
       "      <td>55102</td>\n",
       "      <td>47</td>\n",
       "      <td>30</td>\n",
       "    </tr>\n",
       "  </tbody>\n",
       "</table>\n",
       "</div>"
      ],
      "text/plain": [
       "              timestamp  itemid value  no_week\n",
       "0   2015-06-28 03:00:00  460429  1338       26\n",
       "140 2015-05-24 03:00:00  281245  1277       21\n",
       "151 2015-06-28 03:00:00   35575  1059       26\n",
       "189 2015-07-19 03:00:00    8313  1147       29\n",
       "197 2015-07-26 03:00:00   55102    47       30"
      ]
     },
     "execution_count": 11,
     "metadata": {},
     "output_type": "execute_result"
    }
   ],
   "source": [
    "df1['timestamp'] = pd.to_datetime(df1['timestamp'], unit = 'ms')\n",
    "df1['no_week'] = df1['timestamp'].dt.week\n",
    "df1.head()"
   ]
  },
  {
   "cell_type": "code",
   "execution_count": 12,
   "metadata": {
    "scrolled": true
   },
   "outputs": [
    {
     "data": {
      "text/html": [
       "<div>\n",
       "<style scoped>\n",
       "    .dataframe tbody tr th:only-of-type {\n",
       "        vertical-align: middle;\n",
       "    }\n",
       "\n",
       "    .dataframe tbody tr th {\n",
       "        vertical-align: top;\n",
       "    }\n",
       "\n",
       "    .dataframe thead th {\n",
       "        text-align: right;\n",
       "    }\n",
       "</style>\n",
       "<table border=\"1\" class=\"dataframe\">\n",
       "  <thead>\n",
       "    <tr style=\"text-align: right;\">\n",
       "      <th></th>\n",
       "      <th>timestamp</th>\n",
       "      <th>visitorid</th>\n",
       "      <th>event</th>\n",
       "      <th>itemid</th>\n",
       "      <th>transactionid</th>\n",
       "      <th>no_week</th>\n",
       "    </tr>\n",
       "  </thead>\n",
       "  <tbody>\n",
       "    <tr>\n",
       "      <th>0</th>\n",
       "      <td>2015-06-02 05:02:12.117</td>\n",
       "      <td>257597</td>\n",
       "      <td>view</td>\n",
       "      <td>355908</td>\n",
       "      <td>NaN</td>\n",
       "      <td>23</td>\n",
       "    </tr>\n",
       "    <tr>\n",
       "      <th>1</th>\n",
       "      <td>2015-06-02 05:50:14.164</td>\n",
       "      <td>992329</td>\n",
       "      <td>view</td>\n",
       "      <td>248676</td>\n",
       "      <td>NaN</td>\n",
       "      <td>23</td>\n",
       "    </tr>\n",
       "    <tr>\n",
       "      <th>2</th>\n",
       "      <td>2015-06-02 05:13:19.827</td>\n",
       "      <td>111016</td>\n",
       "      <td>view</td>\n",
       "      <td>318965</td>\n",
       "      <td>NaN</td>\n",
       "      <td>23</td>\n",
       "    </tr>\n",
       "    <tr>\n",
       "      <th>3</th>\n",
       "      <td>2015-06-02 05:12:35.914</td>\n",
       "      <td>483717</td>\n",
       "      <td>view</td>\n",
       "      <td>253185</td>\n",
       "      <td>NaN</td>\n",
       "      <td>23</td>\n",
       "    </tr>\n",
       "    <tr>\n",
       "      <th>4</th>\n",
       "      <td>2015-06-02 05:02:17.106</td>\n",
       "      <td>951259</td>\n",
       "      <td>view</td>\n",
       "      <td>367447</td>\n",
       "      <td>NaN</td>\n",
       "      <td>23</td>\n",
       "    </tr>\n",
       "  </tbody>\n",
       "</table>\n",
       "</div>"
      ],
      "text/plain": [
       "                timestamp  visitorid event  itemid  transactionid  no_week\n",
       "0 2015-06-02 05:02:12.117     257597  view  355908            NaN       23\n",
       "1 2015-06-02 05:50:14.164     992329  view  248676            NaN       23\n",
       "2 2015-06-02 05:13:19.827     111016  view  318965            NaN       23\n",
       "3 2015-06-02 05:12:35.914     483717  view  253185            NaN       23\n",
       "4 2015-06-02 05:02:17.106     951259  view  367447            NaN       23"
      ]
     },
     "execution_count": 12,
     "metadata": {},
     "output_type": "execute_result"
    }
   ],
   "source": [
    "events['timestamp'] = pd.to_datetime(events['timestamp'], unit = 'ms')\n",
    "events['no_week'] = events['timestamp'].dt.week\n",
    "events.head()"
   ]
  },
  {
   "cell_type": "code",
   "execution_count": 13,
   "metadata": {},
   "outputs": [],
   "source": [
    "ev = pd.merge(events,df1, how='left', on=['itemid', 'no_week'])"
   ]
  },
  {
   "cell_type": "code",
   "execution_count": 87,
   "metadata": {},
   "outputs": [
    {
     "data": {
      "text/plain": [
       "(2756101, 8)"
      ]
     },
     "execution_count": 87,
     "metadata": {},
     "output_type": "execute_result"
    }
   ],
   "source": [
    "ev.shape"
   ]
  },
  {
   "cell_type": "code",
   "execution_count": 65,
   "metadata": {},
   "outputs": [],
   "source": [
    "cat_tree2 = pd.read_csv(\"E:\\\\Summer school 2019\\\\Case study\\\\data\\\\category_tree_table_niki_right_align.csv\")"
   ]
  },
  {
   "cell_type": "code",
   "execution_count": 66,
   "metadata": {},
   "outputs": [
    {
     "data": {
      "text/plain": [
       "m1    float64\n",
       "m2    float64\n",
       "m3    float64\n",
       "m4    float64\n",
       "m5    float64\n",
       "m6      int64\n",
       "dtype: object"
      ]
     },
     "execution_count": 66,
     "metadata": {},
     "output_type": "execute_result"
    }
   ],
   "source": [
    "cat_tree2.dtypes"
   ]
  },
  {
   "cell_type": "code",
   "execution_count": 67,
   "metadata": {},
   "outputs": [],
   "source": [
    "cat_tree2.rename(columns={'m6':'value'}, inplace=True)"
   ]
  },
  {
   "cell_type": "code",
   "execution_count": 68,
   "metadata": {},
   "outputs": [
    {
     "data": {
      "text/plain": [
       "m1       float64\n",
       "m2       float64\n",
       "m3       float64\n",
       "m4       float64\n",
       "m5       float64\n",
       "value      int64\n",
       "dtype: object"
      ]
     },
     "execution_count": 68,
     "metadata": {},
     "output_type": "execute_result"
    }
   ],
   "source": [
    "cat_tree2.dtypes"
   ]
  },
  {
   "cell_type": "code",
   "execution_count": 88,
   "metadata": {
    "scrolled": true
   },
   "outputs": [
    {
     "data": {
      "text/plain": [
       "timestamp_x      datetime64[ns]\n",
       "visitorid                 int64\n",
       "event                    object\n",
       "itemid                    int64\n",
       "transactionid           float64\n",
       "no_week                   int64\n",
       "timestamp_y      datetime64[ns]\n",
       "value                    object\n",
       "dtype: object"
      ]
     },
     "execution_count": 88,
     "metadata": {},
     "output_type": "execute_result"
    }
   ],
   "source": [
    "ev.dtypes"
   ]
  },
  {
   "cell_type": "code",
   "execution_count": 14,
   "metadata": {},
   "outputs": [],
   "source": [
    "ev_na = ev[ev['value'].isna()]"
   ]
  },
  {
   "cell_type": "code",
   "execution_count": 110,
   "metadata": {},
   "outputs": [
    {
     "data": {
      "text/plain": [
       "(2458485, 8)"
      ]
     },
     "execution_count": 110,
     "metadata": {},
     "output_type": "execute_result"
    }
   ],
   "source": [
    "ev_na.shape"
   ]
  },
  {
   "cell_type": "code",
   "execution_count": 15,
   "metadata": {},
   "outputs": [],
   "source": [
    "ev_f = ev[ev['value'].isna() == False]"
   ]
  },
  {
   "cell_type": "code",
   "execution_count": 112,
   "metadata": {},
   "outputs": [
    {
     "data": {
      "text/plain": [
       "(297616, 8)"
      ]
     },
     "execution_count": 112,
     "metadata": {},
     "output_type": "execute_result"
    }
   ],
   "source": [
    "ev_f.shape"
   ]
  },
  {
   "cell_type": "code",
   "execution_count": 113,
   "metadata": {
    "scrolled": true
   },
   "outputs": [
    {
     "data": {
      "text/html": [
       "<div>\n",
       "<style scoped>\n",
       "    .dataframe tbody tr th:only-of-type {\n",
       "        vertical-align: middle;\n",
       "    }\n",
       "\n",
       "    .dataframe tbody tr th {\n",
       "        vertical-align: top;\n",
       "    }\n",
       "\n",
       "    .dataframe thead th {\n",
       "        text-align: right;\n",
       "    }\n",
       "</style>\n",
       "<table border=\"1\" class=\"dataframe\">\n",
       "  <thead>\n",
       "    <tr style=\"text-align: right;\">\n",
       "      <th></th>\n",
       "      <th>timestamp_x</th>\n",
       "      <th>visitorid</th>\n",
       "      <th>event</th>\n",
       "      <th>itemid</th>\n",
       "      <th>transactionid</th>\n",
       "      <th>no_week</th>\n",
       "      <th>timestamp_y</th>\n",
       "      <th>value</th>\n",
       "    </tr>\n",
       "  </thead>\n",
       "  <tbody>\n",
       "    <tr>\n",
       "      <th>1</th>\n",
       "      <td>2015-06-02 05:50:14.164</td>\n",
       "      <td>992329</td>\n",
       "      <td>view</td>\n",
       "      <td>248676</td>\n",
       "      <td>NaN</td>\n",
       "      <td>23</td>\n",
       "      <td>NaT</td>\n",
       "      <td>NaN</td>\n",
       "    </tr>\n",
       "    <tr>\n",
       "      <th>2</th>\n",
       "      <td>2015-06-02 05:13:19.827</td>\n",
       "      <td>111016</td>\n",
       "      <td>view</td>\n",
       "      <td>318965</td>\n",
       "      <td>NaN</td>\n",
       "      <td>23</td>\n",
       "      <td>NaT</td>\n",
       "      <td>NaN</td>\n",
       "    </tr>\n",
       "    <tr>\n",
       "      <th>3</th>\n",
       "      <td>2015-06-02 05:12:35.914</td>\n",
       "      <td>483717</td>\n",
       "      <td>view</td>\n",
       "      <td>253185</td>\n",
       "      <td>NaN</td>\n",
       "      <td>23</td>\n",
       "      <td>NaT</td>\n",
       "      <td>NaN</td>\n",
       "    </tr>\n",
       "    <tr>\n",
       "      <th>5</th>\n",
       "      <td>2015-06-02 05:48:06.234</td>\n",
       "      <td>972639</td>\n",
       "      <td>view</td>\n",
       "      <td>22556</td>\n",
       "      <td>NaN</td>\n",
       "      <td>23</td>\n",
       "      <td>NaT</td>\n",
       "      <td>NaN</td>\n",
       "    </tr>\n",
       "    <tr>\n",
       "      <th>6</th>\n",
       "      <td>2015-06-02 05:12:03.240</td>\n",
       "      <td>810725</td>\n",
       "      <td>view</td>\n",
       "      <td>443030</td>\n",
       "      <td>NaN</td>\n",
       "      <td>23</td>\n",
       "      <td>NaT</td>\n",
       "      <td>NaN</td>\n",
       "    </tr>\n",
       "    <tr>\n",
       "      <th>7</th>\n",
       "      <td>2015-06-02 05:34:51.897</td>\n",
       "      <td>794181</td>\n",
       "      <td>view</td>\n",
       "      <td>439202</td>\n",
       "      <td>NaN</td>\n",
       "      <td>23</td>\n",
       "      <td>NaT</td>\n",
       "      <td>NaN</td>\n",
       "    </tr>\n",
       "    <tr>\n",
       "      <th>8</th>\n",
       "      <td>2015-06-02 04:54:59.221</td>\n",
       "      <td>824915</td>\n",
       "      <td>view</td>\n",
       "      <td>428805</td>\n",
       "      <td>NaN</td>\n",
       "      <td>23</td>\n",
       "      <td>NaT</td>\n",
       "      <td>NaN</td>\n",
       "    </tr>\n",
       "    <tr>\n",
       "      <th>9</th>\n",
       "      <td>2015-06-02 05:00:04.592</td>\n",
       "      <td>339335</td>\n",
       "      <td>view</td>\n",
       "      <td>82389</td>\n",
       "      <td>NaN</td>\n",
       "      <td>23</td>\n",
       "      <td>NaT</td>\n",
       "      <td>NaN</td>\n",
       "    </tr>\n",
       "    <tr>\n",
       "      <th>10</th>\n",
       "      <td>2015-06-02 05:16:02.373</td>\n",
       "      <td>176446</td>\n",
       "      <td>view</td>\n",
       "      <td>10572</td>\n",
       "      <td>NaN</td>\n",
       "      <td>23</td>\n",
       "      <td>NaT</td>\n",
       "      <td>NaN</td>\n",
       "    </tr>\n",
       "  </tbody>\n",
       "</table>\n",
       "</div>"
      ],
      "text/plain": [
       "               timestamp_x  visitorid event  itemid  transactionid  no_week  \\\n",
       "1  2015-06-02 05:50:14.164     992329  view  248676            NaN       23   \n",
       "2  2015-06-02 05:13:19.827     111016  view  318965            NaN       23   \n",
       "3  2015-06-02 05:12:35.914     483717  view  253185            NaN       23   \n",
       "5  2015-06-02 05:48:06.234     972639  view   22556            NaN       23   \n",
       "6  2015-06-02 05:12:03.240     810725  view  443030            NaN       23   \n",
       "7  2015-06-02 05:34:51.897     794181  view  439202            NaN       23   \n",
       "8  2015-06-02 04:54:59.221     824915  view  428805            NaN       23   \n",
       "9  2015-06-02 05:00:04.592     339335  view   82389            NaN       23   \n",
       "10 2015-06-02 05:16:02.373     176446  view   10572            NaN       23   \n",
       "\n",
       "   timestamp_y value  \n",
       "1          NaT   NaN  \n",
       "2          NaT   NaN  \n",
       "3          NaT   NaN  \n",
       "5          NaT   NaN  \n",
       "6          NaT   NaN  \n",
       "7          NaT   NaN  \n",
       "8          NaT   NaN  \n",
       "9          NaT   NaN  \n",
       "10         NaT   NaN  "
      ]
     },
     "execution_count": 113,
     "metadata": {},
     "output_type": "execute_result"
    }
   ],
   "source": [
    "ev_na.iloc[1:10]"
   ]
  },
  {
   "cell_type": "code",
   "execution_count": 114,
   "metadata": {
    "scrolled": false
   },
   "outputs": [
    {
     "data": {
      "text/html": [
       "<div>\n",
       "<style scoped>\n",
       "    .dataframe tbody tr th:only-of-type {\n",
       "        vertical-align: middle;\n",
       "    }\n",
       "\n",
       "    .dataframe tbody tr th {\n",
       "        vertical-align: top;\n",
       "    }\n",
       "\n",
       "    .dataframe thead th {\n",
       "        text-align: right;\n",
       "    }\n",
       "</style>\n",
       "<table border=\"1\" class=\"dataframe\">\n",
       "  <thead>\n",
       "    <tr style=\"text-align: right;\">\n",
       "      <th></th>\n",
       "      <th>timestamp_x</th>\n",
       "      <th>visitorid</th>\n",
       "      <th>event</th>\n",
       "      <th>itemid</th>\n",
       "      <th>transactionid</th>\n",
       "      <th>no_week</th>\n",
       "      <th>timestamp_y</th>\n",
       "      <th>value</th>\n",
       "    </tr>\n",
       "  </thead>\n",
       "  <tbody>\n",
       "    <tr>\n",
       "      <th>12</th>\n",
       "      <td>2015-06-02 05:50:29.496</td>\n",
       "      <td>15795</td>\n",
       "      <td>view</td>\n",
       "      <td>44872</td>\n",
       "      <td>NaN</td>\n",
       "      <td>23</td>\n",
       "      <td>2015-06-07 03:00:00</td>\n",
       "      <td>834</td>\n",
       "    </tr>\n",
       "    <tr>\n",
       "      <th>17</th>\n",
       "      <td>2015-06-02 05:33:56.124</td>\n",
       "      <td>287857</td>\n",
       "      <td>addtocart</td>\n",
       "      <td>5206</td>\n",
       "      <td>NaN</td>\n",
       "      <td>23</td>\n",
       "      <td>2015-06-07 03:00:00</td>\n",
       "      <td>927</td>\n",
       "    </tr>\n",
       "    <tr>\n",
       "      <th>20</th>\n",
       "      <td>2015-06-02 05:47:50.841</td>\n",
       "      <td>1398644</td>\n",
       "      <td>view</td>\n",
       "      <td>135256</td>\n",
       "      <td>NaN</td>\n",
       "      <td>23</td>\n",
       "      <td>2015-06-07 03:00:00</td>\n",
       "      <td>421</td>\n",
       "    </tr>\n",
       "    <tr>\n",
       "      <th>22</th>\n",
       "      <td>2015-06-02 05:01:14.809</td>\n",
       "      <td>1213673</td>\n",
       "      <td>view</td>\n",
       "      <td>343861</td>\n",
       "      <td>NaN</td>\n",
       "      <td>23</td>\n",
       "      <td>2015-06-07 03:00:00</td>\n",
       "      <td>1120</td>\n",
       "    </tr>\n",
       "    <tr>\n",
       "      <th>31</th>\n",
       "      <td>2015-06-02 05:03:00.636</td>\n",
       "      <td>849453</td>\n",
       "      <td>view</td>\n",
       "      <td>123990</td>\n",
       "      <td>NaN</td>\n",
       "      <td>23</td>\n",
       "      <td>2015-06-07 03:00:00</td>\n",
       "      <td>535</td>\n",
       "    </tr>\n",
       "    <tr>\n",
       "      <th>41</th>\n",
       "      <td>2015-06-02 05:07:02.167</td>\n",
       "      <td>1342963</td>\n",
       "      <td>view</td>\n",
       "      <td>306886</td>\n",
       "      <td>NaN</td>\n",
       "      <td>23</td>\n",
       "      <td>2015-06-07 03:00:00</td>\n",
       "      <td>1613</td>\n",
       "    </tr>\n",
       "    <tr>\n",
       "      <th>65</th>\n",
       "      <td>2015-06-02 05:31:16.406</td>\n",
       "      <td>1262470</td>\n",
       "      <td>view</td>\n",
       "      <td>102986</td>\n",
       "      <td>NaN</td>\n",
       "      <td>23</td>\n",
       "      <td>2015-06-07 03:00:00</td>\n",
       "      <td>929</td>\n",
       "    </tr>\n",
       "    <tr>\n",
       "      <th>67</th>\n",
       "      <td>2015-06-02 05:19:26.959</td>\n",
       "      <td>238317</td>\n",
       "      <td>view</td>\n",
       "      <td>348196</td>\n",
       "      <td>NaN</td>\n",
       "      <td>23</td>\n",
       "      <td>2015-06-07 03:00:00</td>\n",
       "      <td>1558</td>\n",
       "    </tr>\n",
       "    <tr>\n",
       "      <th>79</th>\n",
       "      <td>2015-06-02 05:49:05.724</td>\n",
       "      <td>854656</td>\n",
       "      <td>view</td>\n",
       "      <td>87947</td>\n",
       "      <td>NaN</td>\n",
       "      <td>23</td>\n",
       "      <td>2015-06-07 03:00:00</td>\n",
       "      <td>1385</td>\n",
       "    </tr>\n",
       "  </tbody>\n",
       "</table>\n",
       "</div>"
      ],
      "text/plain": [
       "               timestamp_x  visitorid      event  itemid  transactionid  \\\n",
       "12 2015-06-02 05:50:29.496      15795       view   44872            NaN   \n",
       "17 2015-06-02 05:33:56.124     287857  addtocart    5206            NaN   \n",
       "20 2015-06-02 05:47:50.841    1398644       view  135256            NaN   \n",
       "22 2015-06-02 05:01:14.809    1213673       view  343861            NaN   \n",
       "31 2015-06-02 05:03:00.636     849453       view  123990            NaN   \n",
       "41 2015-06-02 05:07:02.167    1342963       view  306886            NaN   \n",
       "65 2015-06-02 05:31:16.406    1262470       view  102986            NaN   \n",
       "67 2015-06-02 05:19:26.959     238317       view  348196            NaN   \n",
       "79 2015-06-02 05:49:05.724     854656       view   87947            NaN   \n",
       "\n",
       "    no_week         timestamp_y value  \n",
       "12       23 2015-06-07 03:00:00   834  \n",
       "17       23 2015-06-07 03:00:00   927  \n",
       "20       23 2015-06-07 03:00:00   421  \n",
       "22       23 2015-06-07 03:00:00  1120  \n",
       "31       23 2015-06-07 03:00:00   535  \n",
       "41       23 2015-06-07 03:00:00  1613  \n",
       "65       23 2015-06-07 03:00:00   929  \n",
       "67       23 2015-06-07 03:00:00  1558  \n",
       "79       23 2015-06-07 03:00:00  1385  "
      ]
     },
     "execution_count": 114,
     "metadata": {},
     "output_type": "execute_result"
    }
   ],
   "source": [
    "ev_f.iloc[1:10]"
   ]
  },
  {
   "cell_type": "code",
   "execution_count": 117,
   "metadata": {},
   "outputs": [
    {
     "data": {
      "text/plain": [
       "array(['view', 'addtocart', 'transaction'], dtype=object)"
      ]
     },
     "execution_count": 117,
     "metadata": {},
     "output_type": "execute_result"
    }
   ],
   "source": [
    "ev_f.event.unique()"
   ]
  },
  {
   "cell_type": "code",
   "execution_count": 16,
   "metadata": {},
   "outputs": [],
   "source": [
    "# sort by visitorid and get only addtocart and transaction\n",
    "ev_f_sorted = ev_f.sort_values(by=['visitorid'])"
   ]
  },
  {
   "cell_type": "code",
   "execution_count": 125,
   "metadata": {},
   "outputs": [
    {
     "data": {
      "text/html": [
       "<div>\n",
       "<style scoped>\n",
       "    .dataframe tbody tr th:only-of-type {\n",
       "        vertical-align: middle;\n",
       "    }\n",
       "\n",
       "    .dataframe tbody tr th {\n",
       "        vertical-align: top;\n",
       "    }\n",
       "\n",
       "    .dataframe thead th {\n",
       "        text-align: right;\n",
       "    }\n",
       "</style>\n",
       "<table border=\"1\" class=\"dataframe\">\n",
       "  <thead>\n",
       "    <tr style=\"text-align: right;\">\n",
       "      <th></th>\n",
       "      <th>timestamp_x</th>\n",
       "      <th>visitorid</th>\n",
       "      <th>event</th>\n",
       "      <th>itemid</th>\n",
       "      <th>transactionid</th>\n",
       "      <th>no_week</th>\n",
       "      <th>timestamp_y</th>\n",
       "      <th>value</th>\n",
       "    </tr>\n",
       "  </thead>\n",
       "  <tbody>\n",
       "    <tr>\n",
       "      <th>1309856</th>\n",
       "      <td>2015-09-10 02:01:25.703</td>\n",
       "      <td>15</td>\n",
       "      <td>view</td>\n",
       "      <td>22495</td>\n",
       "      <td>NaN</td>\n",
       "      <td>37</td>\n",
       "      <td>2015-09-13 03:00:00</td>\n",
       "      <td>807</td>\n",
       "    </tr>\n",
       "    <tr>\n",
       "      <th>1172911</th>\n",
       "      <td>2015-09-01 20:44:53.471</td>\n",
       "      <td>18</td>\n",
       "      <td>view</td>\n",
       "      <td>209302</td>\n",
       "      <td>NaN</td>\n",
       "      <td>36</td>\n",
       "      <td>2015-09-06 03:00:00</td>\n",
       "      <td>1574</td>\n",
       "    </tr>\n",
       "    <tr>\n",
       "      <th>777037</th>\n",
       "      <td>2015-08-10 08:09:48.141</td>\n",
       "      <td>30</td>\n",
       "      <td>view</td>\n",
       "      <td>425758</td>\n",
       "      <td>NaN</td>\n",
       "      <td>33</td>\n",
       "      <td>2015-08-16 03:00:00</td>\n",
       "      <td>72</td>\n",
       "    </tr>\n",
       "    <tr>\n",
       "      <th>2518003</th>\n",
       "      <td>2015-07-21 15:34:12.502</td>\n",
       "      <td>31</td>\n",
       "      <td>view</td>\n",
       "      <td>465565</td>\n",
       "      <td>NaN</td>\n",
       "      <td>30</td>\n",
       "      <td>2015-07-26 03:00:00</td>\n",
       "      <td>528</td>\n",
       "    </tr>\n",
       "    <tr>\n",
       "      <th>1630795</th>\n",
       "      <td>2015-05-12 03:37:24.989</td>\n",
       "      <td>44</td>\n",
       "      <td>view</td>\n",
       "      <td>11729</td>\n",
       "      <td>NaN</td>\n",
       "      <td>20</td>\n",
       "      <td>2015-05-17 03:00:00</td>\n",
       "      <td>929</td>\n",
       "    </tr>\n",
       "    <tr>\n",
       "      <th>1238740</th>\n",
       "      <td>2015-09-05 23:23:36.363</td>\n",
       "      <td>51</td>\n",
       "      <td>view</td>\n",
       "      <td>429304</td>\n",
       "      <td>NaN</td>\n",
       "      <td>36</td>\n",
       "      <td>2015-09-06 03:00:00</td>\n",
       "      <td>438</td>\n",
       "    </tr>\n",
       "    <tr>\n",
       "      <th>1245088</th>\n",
       "      <td>2015-09-05 23:26:22.729</td>\n",
       "      <td>51</td>\n",
       "      <td>view</td>\n",
       "      <td>198762</td>\n",
       "      <td>NaN</td>\n",
       "      <td>36</td>\n",
       "      <td>2015-09-06 03:00:00</td>\n",
       "      <td>438</td>\n",
       "    </tr>\n",
       "    <tr>\n",
       "      <th>1236332</th>\n",
       "      <td>2015-09-05 23:27:14.886</td>\n",
       "      <td>51</td>\n",
       "      <td>view</td>\n",
       "      <td>49967</td>\n",
       "      <td>NaN</td>\n",
       "      <td>36</td>\n",
       "      <td>2015-09-06 03:00:00</td>\n",
       "      <td>438</td>\n",
       "    </tr>\n",
       "    <tr>\n",
       "      <th>1241247</th>\n",
       "      <td>2015-09-05 23:21:58.252</td>\n",
       "      <td>51</td>\n",
       "      <td>view</td>\n",
       "      <td>198762</td>\n",
       "      <td>NaN</td>\n",
       "      <td>36</td>\n",
       "      <td>2015-09-06 03:00:00</td>\n",
       "      <td>438</td>\n",
       "    </tr>\n",
       "  </tbody>\n",
       "</table>\n",
       "</div>"
      ],
      "text/plain": [
       "                    timestamp_x  visitorid event  itemid  transactionid  \\\n",
       "1309856 2015-09-10 02:01:25.703         15  view   22495            NaN   \n",
       "1172911 2015-09-01 20:44:53.471         18  view  209302            NaN   \n",
       "777037  2015-08-10 08:09:48.141         30  view  425758            NaN   \n",
       "2518003 2015-07-21 15:34:12.502         31  view  465565            NaN   \n",
       "1630795 2015-05-12 03:37:24.989         44  view   11729            NaN   \n",
       "1238740 2015-09-05 23:23:36.363         51  view  429304            NaN   \n",
       "1245088 2015-09-05 23:26:22.729         51  view  198762            NaN   \n",
       "1236332 2015-09-05 23:27:14.886         51  view   49967            NaN   \n",
       "1241247 2015-09-05 23:21:58.252         51  view  198762            NaN   \n",
       "\n",
       "         no_week         timestamp_y value  \n",
       "1309856       37 2015-09-13 03:00:00   807  \n",
       "1172911       36 2015-09-06 03:00:00  1574  \n",
       "777037        33 2015-08-16 03:00:00    72  \n",
       "2518003       30 2015-07-26 03:00:00   528  \n",
       "1630795       20 2015-05-17 03:00:00   929  \n",
       "1238740       36 2015-09-06 03:00:00   438  \n",
       "1245088       36 2015-09-06 03:00:00   438  \n",
       "1236332       36 2015-09-06 03:00:00   438  \n",
       "1241247       36 2015-09-06 03:00:00   438  "
      ]
     },
     "execution_count": 125,
     "metadata": {},
     "output_type": "execute_result"
    }
   ],
   "source": [
    "ev_f_sorted.iloc[1:10]"
   ]
  },
  {
   "cell_type": "code",
   "execution_count": 17,
   "metadata": {},
   "outputs": [],
   "source": [
    "filter_list = ['addtocart', 'transaction']\n",
    "test = ev_f_sorted[ev_f_sorted.event.isin(filter_list)]"
   ]
  },
  {
   "cell_type": "code",
   "execution_count": 127,
   "metadata": {},
   "outputs": [
    {
     "data": {
      "text/plain": [
       "(10201, 8)"
      ]
     },
     "execution_count": 127,
     "metadata": {},
     "output_type": "execute_result"
    }
   ],
   "source": [
    "test.shape"
   ]
  },
  {
   "cell_type": "code",
   "execution_count": 97,
   "metadata": {},
   "outputs": [],
   "source": [
    "#test.groupby('visitorid').count()"
   ]
  },
  {
   "cell_type": "code",
   "execution_count": 130,
   "metadata": {
    "scrolled": false
   },
   "outputs": [
    {
     "data": {
      "text/html": [
       "<div>\n",
       "<style scoped>\n",
       "    .dataframe tbody tr th:only-of-type {\n",
       "        vertical-align: middle;\n",
       "    }\n",
       "\n",
       "    .dataframe tbody tr th {\n",
       "        vertical-align: top;\n",
       "    }\n",
       "\n",
       "    .dataframe thead th {\n",
       "        text-align: right;\n",
       "    }\n",
       "</style>\n",
       "<table border=\"1\" class=\"dataframe\">\n",
       "  <thead>\n",
       "    <tr style=\"text-align: right;\">\n",
       "      <th></th>\n",
       "      <th>timestamp_x</th>\n",
       "      <th>visitorid</th>\n",
       "      <th>event</th>\n",
       "      <th>itemid</th>\n",
       "      <th>transactionid</th>\n",
       "      <th>no_week</th>\n",
       "      <th>timestamp_y</th>\n",
       "      <th>value</th>\n",
       "    </tr>\n",
       "  </thead>\n",
       "  <tbody>\n",
       "    <tr>\n",
       "      <th>517726</th>\n",
       "      <td>2015-06-27 19:26:53.401</td>\n",
       "      <td>4115</td>\n",
       "      <td>addtocart</td>\n",
       "      <td>98467</td>\n",
       "      <td>NaN</td>\n",
       "      <td>26</td>\n",
       "      <td>2015-06-28 03:00:00</td>\n",
       "      <td>1613</td>\n",
       "    </tr>\n",
       "    <tr>\n",
       "      <th>522819</th>\n",
       "      <td>2015-06-27 19:32:36.446</td>\n",
       "      <td>4115</td>\n",
       "      <td>transaction</td>\n",
       "      <td>98467</td>\n",
       "      <td>15885.0</td>\n",
       "      <td>26</td>\n",
       "      <td>2015-06-28 03:00:00</td>\n",
       "      <td>1613</td>\n",
       "    </tr>\n",
       "    <tr>\n",
       "      <th>528252</th>\n",
       "      <td>2015-06-27 19:08:46.342</td>\n",
       "      <td>4115</td>\n",
       "      <td>addtocart</td>\n",
       "      <td>98467</td>\n",
       "      <td>NaN</td>\n",
       "      <td>26</td>\n",
       "      <td>2015-06-28 03:00:00</td>\n",
       "      <td>1613</td>\n",
       "    </tr>\n",
       "    <tr>\n",
       "      <th>522824</th>\n",
       "      <td>2015-06-27 19:06:38.644</td>\n",
       "      <td>4115</td>\n",
       "      <td>addtocart</td>\n",
       "      <td>403576</td>\n",
       "      <td>NaN</td>\n",
       "      <td>26</td>\n",
       "      <td>2015-06-28 03:00:00</td>\n",
       "      <td>1613</td>\n",
       "    </tr>\n",
       "  </tbody>\n",
       "</table>\n",
       "</div>"
      ],
      "text/plain": [
       "                   timestamp_x  visitorid        event  itemid  transactionid  \\\n",
       "517726 2015-06-27 19:26:53.401       4115    addtocart   98467            NaN   \n",
       "522819 2015-06-27 19:32:36.446       4115  transaction   98467        15885.0   \n",
       "528252 2015-06-27 19:08:46.342       4115    addtocart   98467            NaN   \n",
       "522824 2015-06-27 19:06:38.644       4115    addtocart  403576            NaN   \n",
       "\n",
       "        no_week         timestamp_y value  \n",
       "517726       26 2015-06-28 03:00:00  1613  \n",
       "522819       26 2015-06-28 03:00:00  1613  \n",
       "528252       26 2015-06-28 03:00:00  1613  \n",
       "522824       26 2015-06-28 03:00:00  1613  "
      ]
     },
     "execution_count": 130,
     "metadata": {},
     "output_type": "execute_result"
    }
   ],
   "source": [
    "test[test['visitorid'] == 4115]"
   ]
  },
  {
   "cell_type": "code",
   "execution_count": 18,
   "metadata": {},
   "outputs": [],
   "source": [
    "# take only visitors and their item ids\n",
    "vis_item = test[['visitorid', 'itemid']].copy()"
   ]
  },
  {
   "cell_type": "code",
   "execution_count": 19,
   "metadata": {},
   "outputs": [],
   "source": [
    "vid_item_dist = vis_item.drop_duplicates()"
   ]
  },
  {
   "cell_type": "code",
   "execution_count": 134,
   "metadata": {},
   "outputs": [
    {
     "data": {
      "text/plain": [
       "(7232, 2)"
      ]
     },
     "execution_count": 134,
     "metadata": {},
     "output_type": "execute_result"
    }
   ],
   "source": [
    "vid_item_dist.shape"
   ]
  },
  {
   "cell_type": "code",
   "execution_count": 158,
   "metadata": {
    "scrolled": true
   },
   "outputs": [
    {
     "data": {
      "text/plain": [
       "visitorid    int64\n",
       "itemid       int64\n",
       "dtype: object"
      ]
     },
     "execution_count": 158,
     "metadata": {},
     "output_type": "execute_result"
    }
   ],
   "source": [
    "vid_item_dist.dtypes"
   ]
  },
  {
   "cell_type": "code",
   "execution_count": 174,
   "metadata": {},
   "outputs": [
    {
     "data": {
      "text/plain": [
       "3953"
      ]
     },
     "execution_count": 174,
     "metadata": {},
     "output_type": "execute_result"
    }
   ],
   "source": [
    "len(vid_item_dist.itemid.value_counts())"
   ]
  },
  {
   "cell_type": "code",
   "execution_count": 20,
   "metadata": {},
   "outputs": [],
   "source": [
    "# change type to text\n",
    "vid_item_dist = vid_item_dist.applymap(str)"
   ]
  },
  {
   "cell_type": "code",
   "execution_count": 160,
   "metadata": {},
   "outputs": [
    {
     "data": {
      "text/plain": [
       "visitorid    object\n",
       "itemid       object\n",
       "dtype: object"
      ]
     },
     "execution_count": 160,
     "metadata": {},
     "output_type": "execute_result"
    }
   ],
   "source": [
    "vid_item_dist.dtypes"
   ]
  },
  {
   "cell_type": "code",
   "execution_count": 21,
   "metadata": {},
   "outputs": [],
   "source": [
    "test1 = vid_item_dist.groupby('visitorid')['itemid'].apply(list)"
   ]
  },
  {
   "cell_type": "code",
   "execution_count": 163,
   "metadata": {},
   "outputs": [
    {
     "data": {
      "text/plain": [
       "visitorid\n",
       "1000103            [440560]\n",
       "1000306    [118215, 102478]\n",
       "1000334            [126503]\n",
       "1000384            [136523]\n",
       "1000593              [3629]\n",
       "Name: itemid, dtype: object"
      ]
     },
     "execution_count": 163,
     "metadata": {},
     "output_type": "execute_result"
    }
   ],
   "source": [
    "test1.head()"
   ]
  },
  {
   "cell_type": "code",
   "execution_count": 22,
   "metadata": {},
   "outputs": [],
   "source": [
    "df_f = []\n",
    "for i in range(test1.shape[0]):\n",
    "    df_f.append(test1.iloc[i])"
   ]
  },
  {
   "cell_type": "code",
   "execution_count": 98,
   "metadata": {
    "scrolled": true
   },
   "outputs": [],
   "source": [
    "#df_f"
   ]
  },
  {
   "cell_type": "code",
   "execution_count": 167,
   "metadata": {},
   "outputs": [
    {
     "data": {
      "text/plain": [
       "['440560']"
      ]
     },
     "execution_count": 167,
     "metadata": {},
     "output_type": "execute_result"
    }
   ],
   "source": [
    "test1.iloc[0]"
   ]
  },
  {
   "cell_type": "code",
   "execution_count": 24,
   "metadata": {},
   "outputs": [
    {
     "name": "stderr",
     "output_type": "stream",
     "text": [
      "C:\\Users\\Kamelia\\Anaconda3\\lib\\site-packages\\gensim\\models\\base_any2vec.py:743: UserWarning: C extension not loaded, training will be slow. Install a C compiler and reinstall gensim for fast training.\n",
      "  \"C extension not loaded, training will be slow. \"\n"
     ]
    }
   ],
   "source": [
    "# word2vec model\n",
    "model = gensim.models.Word2Vec(df_f)"
   ]
  },
  {
   "cell_type": "code",
   "execution_count": 26,
   "metadata": {},
   "outputs": [],
   "source": [
    "word2vec = Word2Vec(df_f, min_count=1)  "
   ]
  },
  {
   "cell_type": "code",
   "execution_count": 99,
   "metadata": {},
   "outputs": [],
   "source": [
    "vocabulary = word2vec.wv.vocab  \n",
    "#print(vocabulary)  "
   ]
  },
  {
   "cell_type": "code",
   "execution_count": 100,
   "metadata": {},
   "outputs": [
    {
     "data": {
      "text/plain": [
       "3953"
      ]
     },
     "execution_count": 100,
     "metadata": {},
     "output_type": "execute_result"
    }
   ],
   "source": [
    "len(vocabulary)"
   ]
  },
  {
   "cell_type": "code",
   "execution_count": 178,
   "metadata": {},
   "outputs": [],
   "source": [
    "v1 = word2vec.wv['123441'] # coefficients"
   ]
  },
  {
   "cell_type": "code",
   "execution_count": 179,
   "metadata": {},
   "outputs": [
    {
     "name": "stdout",
     "output_type": "stream",
     "text": [
      "[-4.8261513e-03  4.4639776e-03  2.6526107e-03 -1.6739067e-03\n",
      "  4.7484585e-03  1.3418774e-03  2.3997403e-03  4.8672706e-03\n",
      " -4.0832101e-03 -1.5489662e-04 -3.7451084e-03  4.6699690e-03\n",
      " -3.9320046e-04  1.3588964e-03  1.0466272e-03 -1.7167615e-03\n",
      "  7.3458487e-04 -4.7675562e-03  2.5022975e-03 -1.1219254e-03\n",
      " -1.4483804e-03 -4.4528199e-03 -8.4491872e-04 -4.1180891e-03\n",
      "  4.3164361e-03 -8.0690515e-04  2.3578422e-03  3.4203005e-03\n",
      "  4.5072255e-03 -1.3746552e-03  3.7791918e-03 -1.1351599e-03\n",
      " -3.3383069e-03  4.2166696e-03  2.5958514e-03 -4.2963475e-03\n",
      " -3.8842137e-03  3.1123159e-03  3.0181366e-03  2.0881058e-03\n",
      "  8.7089872e-04 -4.6535800e-03  2.7707373e-03  2.0010662e-03\n",
      " -4.7846898e-03 -9.9733072e-05 -3.2155574e-03  2.8555747e-03\n",
      " -1.1433370e-03 -2.0526678e-03 -3.6460201e-03 -1.0699583e-03\n",
      " -4.4105973e-04  6.4879983e-05  2.0013636e-03 -3.1161058e-04\n",
      " -3.4647270e-03 -3.7488129e-03  3.9629568e-03  2.5297396e-03\n",
      "  1.9277441e-03 -1.4960623e-03 -1.1493488e-03 -3.5331319e-03\n",
      " -3.4369193e-03 -2.3056127e-03  4.3463027e-03  4.3044754e-04\n",
      "  2.5699374e-03 -2.0465830e-03 -2.6663453e-03 -3.5423960e-03\n",
      "  3.9743250e-03 -4.2312136e-03  2.8054602e-03  1.2513603e-03\n",
      " -1.7395690e-03 -1.8313139e-03 -3.0715514e-03 -4.2972811e-03\n",
      " -1.6774863e-03 -3.0442857e-04 -4.1771043e-04 -4.6458025e-03\n",
      " -1.9141296e-03 -3.2633694e-03  1.6439428e-03 -3.3896170e-03\n",
      "  1.2830338e-03 -4.4891476e-03  1.0934144e-03 -3.2834173e-03\n",
      "  2.4088281e-03  1.6046356e-03 -2.6949146e-03  4.2207781e-03\n",
      "  1.8841658e-03  3.1764028e-03  8.8419620e-04 -1.6333581e-03]\n"
     ]
    }
   ],
   "source": [
    "print(v1)"
   ]
  },
  {
   "cell_type": "code",
   "execution_count": 180,
   "metadata": {},
   "outputs": [],
   "source": [
    "sim_words = word2vec.wv.most_similar('123441') # similarity index"
   ]
  },
  {
   "cell_type": "code",
   "execution_count": 181,
   "metadata": {
    "scrolled": true
   },
   "outputs": [
    {
     "name": "stdout",
     "output_type": "stream",
     "text": [
      "[('45727', 0.334730863571167), ('270283', 0.3195377588272095), ('358565', 0.31113624572753906), ('344616', 0.3071662187576294), ('464385', 0.30352506041526794), ('446331', 0.30310964584350586), ('187354', 0.30144476890563965), ('102673', 0.2953774034976959), ('244285', 0.2898024022579193), ('464751', 0.2871525287628174)]\n"
     ]
    }
   ],
   "source": [
    "print(sim_words)"
   ]
  },
  {
   "cell_type": "code",
   "execution_count": 29,
   "metadata": {
    "scrolled": true
   },
   "outputs": [
    {
     "name": "stderr",
     "output_type": "stream",
     "text": [
      "C:\\Users\\Kamelia\\Anaconda3\\lib\\site-packages\\ipykernel_launcher.py:3: DeprecationWarning: Call to deprecated `__getitem__` (Method will be removed in 4.0.0, use self.wv.__getitem__() instead).\n",
      "  This is separate from the ipykernel package so we can avoid doing imports until\n"
     ]
    }
   ],
   "source": [
    "# put vocabulary in a list\n",
    "vocab = list(model.wv.vocab)\n",
    "X = model[vocab]"
   ]
  },
  {
   "cell_type": "code",
   "execution_count": 30,
   "metadata": {},
   "outputs": [],
   "source": [
    "# dimensionality reduction\n",
    "tsne = TSNE(n_components=2)\n",
    "X_tsne = tsne.fit_transform(X)"
   ]
  },
  {
   "cell_type": "code",
   "execution_count": 31,
   "metadata": {},
   "outputs": [],
   "source": [
    "ff = pd.DataFrame(X_tsne, index=vocab, columns=['x', 'y'])"
   ]
  },
  {
   "cell_type": "code",
   "execution_count": 189,
   "metadata": {},
   "outputs": [
    {
     "data": {
      "text/html": [
       "<div>\n",
       "<style scoped>\n",
       "    .dataframe tbody tr th:only-of-type {\n",
       "        vertical-align: middle;\n",
       "    }\n",
       "\n",
       "    .dataframe tbody tr th {\n",
       "        vertical-align: top;\n",
       "    }\n",
       "\n",
       "    .dataframe thead th {\n",
       "        text-align: right;\n",
       "    }\n",
       "</style>\n",
       "<table border=\"1\" class=\"dataframe\">\n",
       "  <thead>\n",
       "    <tr style=\"text-align: right;\">\n",
       "      <th></th>\n",
       "      <th>x</th>\n",
       "      <th>y</th>\n",
       "    </tr>\n",
       "  </thead>\n",
       "  <tbody>\n",
       "    <tr>\n",
       "      <th>136523</th>\n",
       "      <td>1.319114</td>\n",
       "      <td>2.531712</td>\n",
       "    </tr>\n",
       "    <tr>\n",
       "      <th>403576</th>\n",
       "      <td>4.833763</td>\n",
       "      <td>5.012306</td>\n",
       "    </tr>\n",
       "    <tr>\n",
       "      <th>230931</th>\n",
       "      <td>2.895697</td>\n",
       "      <td>5.221858</td>\n",
       "    </tr>\n",
       "    <tr>\n",
       "      <th>417059</th>\n",
       "      <td>5.046583</td>\n",
       "      <td>1.748294</td>\n",
       "    </tr>\n",
       "    <tr>\n",
       "      <th>438554</th>\n",
       "      <td>-5.676251</td>\n",
       "      <td>-3.831763</td>\n",
       "    </tr>\n",
       "  </tbody>\n",
       "</table>\n",
       "</div>"
      ],
      "text/plain": [
       "               x         y\n",
       "136523  1.319114  2.531712\n",
       "403576  4.833763  5.012306\n",
       "230931  2.895697  5.221858\n",
       "417059  5.046583  1.748294\n",
       "438554 -5.676251 -3.831763"
      ]
     },
     "execution_count": 189,
     "metadata": {},
     "output_type": "execute_result"
    }
   ],
   "source": [
    "ff.head()\n",
    "# visitorid is index"
   ]
  },
  {
   "cell_type": "code",
   "execution_count": 212,
   "metadata": {
    "scrolled": false
   },
   "outputs": [
    {
     "data": {
      "image/png": "[encoded data removed]",
      "text/plain": [
       "<Figure size 1080x720 with 1 Axes>"
      ]
     },
     "metadata": {
      "needs_background": "light"
     },
     "output_type": "display_data"
    }
   ],
   "source": [
    "#fig, ax = plt.subplots()\n",
    "#ax.scatter(ff['x'], ff['y'])\n",
    "plt.figure(figsize=(15,10))\n",
    "plt.plot(ff['x'], ff['y'], 'ro', alpha = 0.5)\n",
    "\n",
    "for i in range(len(ff)):\n",
    "    plt.text(ff.x.iloc[i], ff.y.iloc[i], str(ff.index[i]))\n",
    "    \n",
    "plt.show()"
   ]
  },
  {
   "cell_type": "code",
   "execution_count": 51,
   "metadata": {},
   "outputs": [],
   "source": [
    "def get_input():\n",
    "    answer1= input(\"Customer ID? \")\n",
    "    \n",
    "    if answer1 in test1.index:\n",
    "        print('Old customer')\n",
    "        \n",
    "    else: print(\"New customer\")\n",
    "        \n",
    "    return answer1"
   ]
  },
  {
   "cell_type": "code",
   "execution_count": 94,
   "metadata": {},
   "outputs": [],
   "source": [
    "def recommend(customerid):\n",
    "    c =  test1[test1.index.isin([customerid])]\n",
    "    prod = c[0]\n",
    "    \n",
    "    for i, p in enumerate(prod):\n",
    "        sim_words = word2vec.wv.most_similar(p)\n",
    "        print(\"\\n\")\n",
    "        print(\"Bought product:\", prod[i], \"\\n\")\n",
    "        for j in range(len(sim_words)):\n",
    "            print(\"Recommended Product ID:\", sim_words[j][0])\n",
    "            print(\"Similarity index:\", sim_words[j][1])"
   ]
  },
  {
   "cell_type": "code",
   "execution_count": 85,
   "metadata": {},
   "outputs": [
    {
     "data": {
      "text/plain": [
       "visitorid\n",
       "1000103            [440560]\n",
       "1000306    [118215, 102478]\n",
       "1000334            [126503]\n",
       "1000384            [136523]\n",
       "1000593              [3629]\n",
       "1000648            [381934]\n",
       "1000782            [403576]\n",
       "1000952     [230931, 60166]\n",
       "100104             [417059]\n",
       "1001299            [438554]\n",
       "Name: itemid, dtype: object"
      ]
     },
     "execution_count": 85,
     "metadata": {},
     "output_type": "execute_result"
    }
   ],
   "source": [
    "test1[0:10]"
   ]
  },
  {
   "cell_type": "code",
   "execution_count": 86,
   "metadata": {},
   "outputs": [
    {
     "name": "stdout",
     "output_type": "stream",
     "text": [
      "Customer ID? 1000306\n",
      "Old customer\n"
     ]
    }
   ],
   "source": [
    "# input should be without ''\n",
    "answer=get_input()"
   ]
  },
  {
   "cell_type": "code",
   "execution_count": 95,
   "metadata": {
    "scrolled": true
   },
   "outputs": [
    {
     "name": "stdout",
     "output_type": "stream",
     "text": [
      "\n",
      "\n",
      "Bought product: 118215 \n",
      "\n",
      "Recommended Product ID: 369158\n",
      "Similarity index: 0.3147122263908386\n",
      "Recommended Product ID: 174417\n",
      "Similarity index: 0.3110402226448059\n",
      "Recommended Product ID: 169147\n",
      "Similarity index: 0.3109191358089447\n",
      "Recommended Product ID: 38483\n",
      "Similarity index: 0.3107454478740692\n",
      "Recommended Product ID: 301013\n",
      "Similarity index: 0.31073591113090515\n",
      "Recommended Product ID: 180492\n",
      "Similarity index: 0.29396408796310425\n",
      "Recommended Product ID: 293737\n",
      "Similarity index: 0.28802281618118286\n",
      "Recommended Product ID: 314201\n",
      "Similarity index: 0.2847787141799927\n",
      "Recommended Product ID: 115663\n",
      "Similarity index: 0.2838778495788574\n",
      "Recommended Product ID: 444666\n",
      "Similarity index: 0.27890506386756897\n",
      "\n",
      "\n",
      "Bought product: 102478 \n",
      "\n",
      "Recommended Product ID: 405889\n",
      "Similarity index: 0.3568844795227051\n",
      "Recommended Product ID: 340808\n",
      "Similarity index: 0.3113323450088501\n",
      "Recommended Product ID: 122041\n",
      "Similarity index: 0.30691468715667725\n",
      "Recommended Product ID: 214441\n",
      "Similarity index: 0.3062582015991211\n",
      "Recommended Product ID: 18155\n",
      "Similarity index: 0.3002483546733856\n",
      "Recommended Product ID: 443015\n",
      "Similarity index: 0.29627615213394165\n",
      "Recommended Product ID: 139280\n",
      "Similarity index: 0.2880852222442627\n",
      "Recommended Product ID: 366613\n",
      "Similarity index: 0.28192558884620667\n",
      "Recommended Product ID: 11711\n",
      "Similarity index: 0.2781238257884979\n",
      "Recommended Product ID: 93092\n",
      "Similarity index: 0.27600228786468506\n"
     ]
    }
   ],
   "source": [
    "recommend(customerid=answer)"
   ]
  },
  {
   "cell_type": "code",
   "execution_count": null,
   "metadata": {},
   "outputs": [],
   "source": []
  },
  {
   "cell_type": "code",
   "execution_count": null,
   "metadata": {},
   "outputs": [],
   "source": []
  },
  {
   "cell_type": "code",
   "execution_count": null,
   "metadata": {},
   "outputs": [],
   "source": []
  },
  {
   "cell_type": "code",
   "execution_count": 80,
   "metadata": {},
   "outputs": [],
   "source": [
    "ev1 = pd.merge(test,cat_tree2, how='left', on='value')"
   ]
  },
  {
   "cell_type": "code",
   "execution_count": 81,
   "metadata": {},
   "outputs": [
    {
     "data": {
      "text/plain": [
       "value      int32\n",
       "m1       float64\n",
       "m2       float64\n",
       "m3       float64\n",
       "m4       float64\n",
       "m5       float64\n",
       "dtype: object"
      ]
     },
     "execution_count": 81,
     "metadata": {},
     "output_type": "execute_result"
    }
   ],
   "source": [
    "ev1.dtypes"
   ]
  },
  {
   "cell_type": "code",
   "execution_count": 82,
   "metadata": {},
   "outputs": [
    {
     "data": {
      "text/plain": [
       "(297616, 6)"
      ]
     },
     "execution_count": 82,
     "metadata": {},
     "output_type": "execute_result"
    }
   ],
   "source": [
    "ev1.shape"
   ]
  },
  {
   "cell_type": "code",
   "execution_count": 84,
   "metadata": {},
   "outputs": [
    {
     "data": {
      "text/html": [
       "<div>\n",
       "<style scoped>\n",
       "    .dataframe tbody tr th:only-of-type {\n",
       "        vertical-align: middle;\n",
       "    }\n",
       "\n",
       "    .dataframe tbody tr th {\n",
       "        vertical-align: top;\n",
       "    }\n",
       "\n",
       "    .dataframe thead th {\n",
       "        text-align: right;\n",
       "    }\n",
       "</style>\n",
       "<table border=\"1\" class=\"dataframe\">\n",
       "  <thead>\n",
       "    <tr style=\"text-align: right;\">\n",
       "      <th></th>\n",
       "      <th>value</th>\n",
       "      <th>m1</th>\n",
       "      <th>m2</th>\n",
       "      <th>m3</th>\n",
       "      <th>m4</th>\n",
       "      <th>m5</th>\n",
       "    </tr>\n",
       "  </thead>\n",
       "  <tbody>\n",
       "    <tr>\n",
       "      <th>0</th>\n",
       "      <td>1613</td>\n",
       "      <td>NaN</td>\n",
       "      <td>NaN</td>\n",
       "      <td>NaN</td>\n",
       "      <td>NaN</td>\n",
       "      <td>250.0</td>\n",
       "    </tr>\n",
       "    <tr>\n",
       "      <th>1</th>\n",
       "      <td>834</td>\n",
       "      <td>NaN</td>\n",
       "      <td>NaN</td>\n",
       "      <td>NaN</td>\n",
       "      <td>1579.0</td>\n",
       "      <td>1056.0</td>\n",
       "    </tr>\n",
       "    <tr>\n",
       "      <th>2</th>\n",
       "      <td>927</td>\n",
       "      <td>NaN</td>\n",
       "      <td>NaN</td>\n",
       "      <td>NaN</td>\n",
       "      <td>1482.0</td>\n",
       "      <td>605.0</td>\n",
       "    </tr>\n",
       "    <tr>\n",
       "      <th>3</th>\n",
       "      <td>421</td>\n",
       "      <td>NaN</td>\n",
       "      <td>NaN</td>\n",
       "      <td>NaN</td>\n",
       "      <td>679.0</td>\n",
       "      <td>1424.0</td>\n",
       "    </tr>\n",
       "    <tr>\n",
       "      <th>4</th>\n",
       "      <td>1120</td>\n",
       "      <td>NaN</td>\n",
       "      <td>NaN</td>\n",
       "      <td>NaN</td>\n",
       "      <td>NaN</td>\n",
       "      <td>NaN</td>\n",
       "    </tr>\n",
       "  </tbody>\n",
       "</table>\n",
       "</div>"
      ],
      "text/plain": [
       "   value  m1  m2  m3      m4      m5\n",
       "0   1613 NaN NaN NaN     NaN   250.0\n",
       "1    834 NaN NaN NaN  1579.0  1056.0\n",
       "2    927 NaN NaN NaN  1482.0   605.0\n",
       "3    421 NaN NaN NaN   679.0  1424.0\n",
       "4   1120 NaN NaN NaN     NaN     NaN"
      ]
     },
     "execution_count": 84,
     "metadata": {},
     "output_type": "execute_result"
    }
   ],
   "source": [
    "ev1.head()"
   ]
  },
  {
   "cell_type": "code",
   "execution_count": 85,
   "metadata": {},
   "outputs": [
    {
     "data": {
      "text/plain": [
       "<bound method Series.unique of 0         1613\n",
       "1          834\n",
       "2          927\n",
       "3          421\n",
       "4         1120\n",
       "5          535\n",
       "6         1613\n",
       "7          929\n",
       "8         1558\n",
       "9         1385\n",
       "10         834\n",
       "11        1613\n",
       "12          51\n",
       "13        1167\n",
       "14         535\n",
       "15        1454\n",
       "16         463\n",
       "17        1529\n",
       "18        1613\n",
       "19         532\n",
       "20        1509\n",
       "21        1253\n",
       "22        1613\n",
       "23        1554\n",
       "24        1173\n",
       "25         842\n",
       "26        1120\n",
       "27        1277\n",
       "28        1167\n",
       "29        1402\n",
       "          ... \n",
       "297586    1120\n",
       "297587    1613\n",
       "297588    1613\n",
       "297589    1613\n",
       "297590    1613\n",
       "297591    1228\n",
       "297592    1355\n",
       "297593    1613\n",
       "297594    1589\n",
       "297595    1509\n",
       "297596    1613\n",
       "297597     256\n",
       "297598    1120\n",
       "297599     478\n",
       "297600    1355\n",
       "297601    1613\n",
       "297602     256\n",
       "297603     822\n",
       "297604    1509\n",
       "297605    1277\n",
       "297606    1613\n",
       "297607     861\n",
       "297608    1120\n",
       "297609     496\n",
       "297610    1679\n",
       "297611    1613\n",
       "297612     546\n",
       "297613    1277\n",
       "297614     238\n",
       "297615     256\n",
       "Name: value, Length: 297616, dtype: int32>"
      ]
     },
     "execution_count": 85,
     "metadata": {},
     "output_type": "execute_result"
    }
   ],
   "source": [
    "ev1['value'].unique"
   ]
  },
  {
   "cell_type": "code",
   "execution_count": 93,
   "metadata": {},
   "outputs": [
    {
     "data": {
      "text/plain": [
       "<bound method Series.unique of 0          26\n",
       "140        21\n",
       "151        26\n",
       "189        29\n",
       "197        30\n",
       "213        22\n",
       "237        28\n",
       "254        30\n",
       "310        30\n",
       "325        32\n",
       "359        34\n",
       "360        19\n",
       "364        36\n",
       "408        22\n",
       "466        22\n",
       "490        35\n",
       "498        22\n",
       "504        36\n",
       "519        35\n",
       "543        19\n",
       "551        22\n",
       "632        31\n",
       "655        31\n",
       "674        35\n",
       "696        19\n",
       "721        19\n",
       "726        19\n",
       "744        23\n",
       "766        19\n",
       "780        26\n",
       "           ..\n",
       "9275002    19\n",
       "9275067    33\n",
       "9275068    30\n",
       "9275070    29\n",
       "9275181    27\n",
       "9275191    23\n",
       "9275224    26\n",
       "9275255    26\n",
       "9275269    29\n",
       "9275287    19\n",
       "9275299    24\n",
       "9275308    19\n",
       "9275346    30\n",
       "9275379    30\n",
       "9275386    19\n",
       "9275412    22\n",
       "9275445    26\n",
       "9275446    24\n",
       "9275475    22\n",
       "9275503    34\n",
       "9275532    19\n",
       "9275615    19\n",
       "9275650    28\n",
       "9275659    22\n",
       "9275697    19\n",
       "9275798    23\n",
       "9275823    19\n",
       "9275831    30\n",
       "9275873    26\n",
       "9275879    26\n",
       "Name: no_week, Length: 788214, dtype: int64>"
      ]
     },
     "execution_count": 93,
     "metadata": {},
     "output_type": "execute_result"
    }
   ],
   "source": [
    "df1['no_week'].unique"
   ]
  }
 ],
 "metadata": {
  "kernelspec": {
   "display_name": "Python 3",
   "language": "python",
   "name": "python3"
  },
  "language_info": {
   "codemirror_mode": {
    "name": "ipython",
    "version": 3
   },
   "file_extension": ".py",
   "mimetype": "text/x-python",
   "name": "python",
   "nbconvert_exporter": "python",
   "pygments_lexer": "ipython3",
   "version": "3.7.1"
  }
 },
 "nbformat": 4,
 "nbformat_minor": 2
}
